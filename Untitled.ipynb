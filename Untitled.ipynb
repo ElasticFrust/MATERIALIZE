{
 "cells": [
  {
   "cell_type": "code",
   "execution_count": 1,
   "id": "463189ad-d934-4b85-b140-866fc7dd3128",
   "metadata": {},
   "outputs": [],
   "source": [
    "import numpy as np\n",
    "import scipy as sp\n",
    "import seaborn as sb\n",
    "import matplotlib.pyplot as plt\n",
    "import Disc_2_Cont as D2C\n",
    "import copy"
   ]
  },
  {
   "cell_type": "code",
   "execution_count": 43,
   "id": "eaaee3a3-e644-468c-bc92-82bf98fa41d8",
   "metadata": {},
   "outputs": [
    {
     "name": "stderr",
     "output_type": "stream",
     "text": [
      "C:\\Users\\dgrossma\\AppData\\Local\\anaconda3\\Lib\\site-packages\\scipy\\sparse\\linalg\\_dsolve\\linsolve.py:603: SparseEfficiencyWarning: splu converted its input to CSC format\n",
      "  return splu(A).solve\n",
      "C:\\Users\\dgrossma\\AppData\\Local\\anaconda3\\Lib\\site-packages\\scipy\\sparse\\linalg\\_matfuncs.py:76: SparseEfficiencyWarning: spsolve is more efficient when sparse b is in the CSC matrix format\n",
      "  Ainv = spsolve(A, I)\n"
     ]
    },
    {
     "name": "stdout",
     "output_type": "stream",
     "text": [
      "Iteration 1, eta = 1:\n",
      "\t Y_i = 0.007941321041609597\n",
      "\t nu_i = -0.11488933218755186\n",
      "\t nu2 = -0.07718813246135708\n"
     ]
    },
    {
     "ename": "TypeError",
     "evalue": "unhashable type: 'list'",
     "output_type": "error",
     "traceback": [
      "\u001b[1;31m---------------------------------------------------------------------------\u001b[0m",
      "\u001b[1;31mAttributeError\u001b[0m                            Traceback (most recent call last)",
      "File \u001b[1;32m~\\AppData\\Local\\anaconda3\\Lib\\site-packages\\seaborn\\_base.py:1768\u001b[0m, in \u001b[0;36mcategorical_order\u001b[1;34m(vector, order)\u001b[0m\n\u001b[0;32m   1767\u001b[0m \u001b[38;5;28;01mtry\u001b[39;00m:\n\u001b[1;32m-> 1768\u001b[0m     order \u001b[38;5;241m=\u001b[39m vector\u001b[38;5;241m.\u001b[39mcat\u001b[38;5;241m.\u001b[39mcategories\n\u001b[0;32m   1769\u001b[0m \u001b[38;5;28;01mexcept\u001b[39;00m (\u001b[38;5;167;01mTypeError\u001b[39;00m, \u001b[38;5;167;01mAttributeError\u001b[39;00m):\n",
      "File \u001b[1;32m~\\AppData\\Local\\anaconda3\\Lib\\site-packages\\pandas\\core\\generic.py:6299\u001b[0m, in \u001b[0;36mNDFrame.__getattr__\u001b[1;34m(self, name)\u001b[0m\n\u001b[0;32m   6298\u001b[0m     \u001b[38;5;28;01mreturn\u001b[39;00m \u001b[38;5;28mself\u001b[39m[name]\n\u001b[1;32m-> 6299\u001b[0m \u001b[38;5;28;01mreturn\u001b[39;00m \u001b[38;5;28mobject\u001b[39m\u001b[38;5;241m.\u001b[39m\u001b[38;5;21m__getattribute__\u001b[39m(\u001b[38;5;28mself\u001b[39m, name)\n",
      "File \u001b[1;32m~\\AppData\\Local\\anaconda3\\Lib\\site-packages\\pandas\\core\\accessor.py:224\u001b[0m, in \u001b[0;36mCachedAccessor.__get__\u001b[1;34m(self, obj, cls)\u001b[0m\n\u001b[0;32m    223\u001b[0m     \u001b[38;5;28;01mreturn\u001b[39;00m \u001b[38;5;28mself\u001b[39m\u001b[38;5;241m.\u001b[39m_accessor\n\u001b[1;32m--> 224\u001b[0m accessor_obj \u001b[38;5;241m=\u001b[39m \u001b[38;5;28mself\u001b[39m\u001b[38;5;241m.\u001b[39m_accessor(obj)\n\u001b[0;32m    225\u001b[0m \u001b[38;5;66;03m# Replace the property with the accessor object. Inspired by:\u001b[39;00m\n\u001b[0;32m    226\u001b[0m \u001b[38;5;66;03m# https://www.pydanny.com/cached-property.html\u001b[39;00m\n\u001b[0;32m    227\u001b[0m \u001b[38;5;66;03m# We need to use object.__setattr__ because we overwrite __setattr__ on\u001b[39;00m\n\u001b[0;32m    228\u001b[0m \u001b[38;5;66;03m# NDFrame\u001b[39;00m\n",
      "File \u001b[1;32m~\\AppData\\Local\\anaconda3\\Lib\\site-packages\\pandas\\core\\arrays\\categorical.py:2898\u001b[0m, in \u001b[0;36mCategoricalAccessor.__init__\u001b[1;34m(self, data)\u001b[0m\n\u001b[0;32m   2897\u001b[0m \u001b[38;5;28;01mdef\u001b[39;00m \u001b[38;5;21m__init__\u001b[39m(\u001b[38;5;28mself\u001b[39m, data) \u001b[38;5;241m-\u001b[39m\u001b[38;5;241m>\u001b[39m \u001b[38;5;28;01mNone\u001b[39;00m:\n\u001b[1;32m-> 2898\u001b[0m     \u001b[38;5;28mself\u001b[39m\u001b[38;5;241m.\u001b[39m_validate(data)\n\u001b[0;32m   2899\u001b[0m     \u001b[38;5;28mself\u001b[39m\u001b[38;5;241m.\u001b[39m_parent \u001b[38;5;241m=\u001b[39m data\u001b[38;5;241m.\u001b[39mvalues\n",
      "File \u001b[1;32m~\\AppData\\Local\\anaconda3\\Lib\\site-packages\\pandas\\core\\arrays\\categorical.py:2907\u001b[0m, in \u001b[0;36mCategoricalAccessor._validate\u001b[1;34m(data)\u001b[0m\n\u001b[0;32m   2906\u001b[0m \u001b[38;5;28;01mif\u001b[39;00m \u001b[38;5;129;01mnot\u001b[39;00m \u001b[38;5;28misinstance\u001b[39m(data\u001b[38;5;241m.\u001b[39mdtype, CategoricalDtype):\n\u001b[1;32m-> 2907\u001b[0m     \u001b[38;5;28;01mraise\u001b[39;00m \u001b[38;5;167;01mAttributeError\u001b[39;00m(\u001b[38;5;124m\"\u001b[39m\u001b[38;5;124mCan only use .cat accessor with a \u001b[39m\u001b[38;5;124m'\u001b[39m\u001b[38;5;124mcategory\u001b[39m\u001b[38;5;124m'\u001b[39m\u001b[38;5;124m dtype\u001b[39m\u001b[38;5;124m\"\u001b[39m)\n",
      "\u001b[1;31mAttributeError\u001b[0m: Can only use .cat accessor with a 'category' dtype",
      "\nDuring handling of the above exception, another exception occurred:\n",
      "\u001b[1;31mTypeError\u001b[0m                                 Traceback (most recent call last)",
      "Cell \u001b[1;32mIn[43], line 36\u001b[0m\n\u001b[0;32m     33\u001b[0m         \u001b[38;5;28mprint\u001b[39m(\u001b[38;5;124m\"\u001b[39m\u001b[38;5;130;01m\\t\u001b[39;00m\u001b[38;5;124m nu2 = \u001b[39m\u001b[38;5;124m\"\u001b[39m \u001b[38;5;241m+\u001b[39m \u001b[38;5;28mstr\u001b[39m(newDT\u001b[38;5;241m.\u001b[39mtotalElasticTensor[\u001b[38;5;241m2\u001b[39m]\u001b[38;5;241m/\u001b[39mnewDT\u001b[38;5;241m.\u001b[39mtotalElasticTensor[\u001b[38;5;241m5\u001b[39m]))\n\u001b[0;32m     34\u001b[0m         \u001b[38;5;66;03m#print(\"\\t <Y> = \" + str(Y))\u001b[39;00m\n\u001b[0;32m     35\u001b[0m         \u001b[38;5;66;03m#print(\"\\t <nu> = \" + str(nu))\u001b[39;00m\n\u001b[1;32m---> 36\u001b[0m sb\u001b[38;5;241m.\u001b[39mscatterplot(x\u001b[38;5;241m=\u001b[39m\u001b[38;5;28mrange\u001b[39m(\u001b[38;5;241m1\u001b[39m,n_iter\u001b[38;5;241m+\u001b[39m\u001b[38;5;241m1\u001b[39m),y\u001b[38;5;241m=\u001b[39mylist,ax\u001b[38;5;241m=\u001b[39maxs[\u001b[38;5;241m0\u001b[39m])\n\u001b[0;32m     37\u001b[0m sb\u001b[38;5;241m.\u001b[39mscatterplot(x\u001b[38;5;241m=\u001b[39m\u001b[38;5;28mrange\u001b[39m(\u001b[38;5;241m1\u001b[39m,n_iter\u001b[38;5;241m+\u001b[39m\u001b[38;5;241m1\u001b[39m),y\u001b[38;5;241m=\u001b[39mnulist,ax\u001b[38;5;241m=\u001b[39maxs[\u001b[38;5;241m1\u001b[39m])\n",
      "File \u001b[1;32m~\\AppData\\Local\\anaconda3\\Lib\\site-packages\\seaborn\\relational.py:631\u001b[0m, in \u001b[0;36mscatterplot\u001b[1;34m(data, x, y, hue, size, style, palette, hue_order, hue_norm, sizes, size_order, size_norm, markers, style_order, legend, ax, **kwargs)\u001b[0m\n\u001b[0;32m    628\u001b[0m \u001b[38;5;28;01mif\u001b[39;00m \u001b[38;5;129;01mnot\u001b[39;00m p\u001b[38;5;241m.\u001b[39mhas_xy_data:\n\u001b[0;32m    629\u001b[0m     \u001b[38;5;28;01mreturn\u001b[39;00m ax\n\u001b[1;32m--> 631\u001b[0m p\u001b[38;5;241m.\u001b[39m_attach(ax)\n\u001b[0;32m    633\u001b[0m color \u001b[38;5;241m=\u001b[39m kwargs\u001b[38;5;241m.\u001b[39mpop(\u001b[38;5;124m\"\u001b[39m\u001b[38;5;124mcolor\u001b[39m\u001b[38;5;124m\"\u001b[39m, \u001b[38;5;28;01mNone\u001b[39;00m)\n\u001b[0;32m    634\u001b[0m kwargs[\u001b[38;5;124m\"\u001b[39m\u001b[38;5;124mcolor\u001b[39m\u001b[38;5;124m\"\u001b[39m] \u001b[38;5;241m=\u001b[39m _default_color(ax\u001b[38;5;241m.\u001b[39mscatter, hue, color, kwargs)\n",
      "File \u001b[1;32m~\\AppData\\Local\\anaconda3\\Lib\\site-packages\\seaborn\\_base.py:1134\u001b[0m, in \u001b[0;36mVectorPlotter._attach\u001b[1;34m(self, obj, allowed_types, log_scale)\u001b[0m\n\u001b[0;32m   1132\u001b[0m             \u001b[38;5;28;01melse\u001b[39;00m:\n\u001b[0;32m   1133\u001b[0m                 order \u001b[38;5;241m=\u001b[39m \u001b[38;5;28;01mNone\u001b[39;00m\n\u001b[1;32m-> 1134\u001b[0m             seed_data \u001b[38;5;241m=\u001b[39m categorical_order(seed_data, order)\n\u001b[0;32m   1135\u001b[0m         converter\u001b[38;5;241m.\u001b[39mupdate_units(seed_data)\n\u001b[0;32m   1137\u001b[0m \u001b[38;5;66;03m# -- Set numerical axis scales\u001b[39;00m\n\u001b[0;32m   1138\u001b[0m \n\u001b[0;32m   1139\u001b[0m \u001b[38;5;66;03m# First unpack the log_scale argument\u001b[39;00m\n",
      "File \u001b[1;32m~\\AppData\\Local\\anaconda3\\Lib\\site-packages\\seaborn\\_base.py:1771\u001b[0m, in \u001b[0;36mcategorical_order\u001b[1;34m(vector, order)\u001b[0m\n\u001b[0;32m   1768\u001b[0m     order \u001b[38;5;241m=\u001b[39m vector\u001b[38;5;241m.\u001b[39mcat\u001b[38;5;241m.\u001b[39mcategories\n\u001b[0;32m   1769\u001b[0m \u001b[38;5;28;01mexcept\u001b[39;00m (\u001b[38;5;167;01mTypeError\u001b[39;00m, \u001b[38;5;167;01mAttributeError\u001b[39;00m):\n\u001b[1;32m-> 1771\u001b[0m     order \u001b[38;5;241m=\u001b[39m pd\u001b[38;5;241m.\u001b[39mSeries(vector)\u001b[38;5;241m.\u001b[39munique()\n\u001b[0;32m   1773\u001b[0m     \u001b[38;5;28;01mif\u001b[39;00m variable_type(vector) \u001b[38;5;241m==\u001b[39m \u001b[38;5;124m\"\u001b[39m\u001b[38;5;124mnumeric\u001b[39m\u001b[38;5;124m\"\u001b[39m:\n\u001b[0;32m   1774\u001b[0m         order \u001b[38;5;241m=\u001b[39m np\u001b[38;5;241m.\u001b[39msort(order)\n",
      "File \u001b[1;32m~\\AppData\\Local\\anaconda3\\Lib\\site-packages\\pandas\\core\\series.py:2407\u001b[0m, in \u001b[0;36mSeries.unique\u001b[1;34m(self)\u001b[0m\n\u001b[0;32m   2344\u001b[0m \u001b[38;5;28;01mdef\u001b[39;00m \u001b[38;5;21munique\u001b[39m(\u001b[38;5;28mself\u001b[39m) \u001b[38;5;241m-\u001b[39m\u001b[38;5;241m>\u001b[39m ArrayLike:  \u001b[38;5;66;03m# pylint: disable=useless-parent-delegation\u001b[39;00m\n\u001b[0;32m   2345\u001b[0m \u001b[38;5;250m    \u001b[39m\u001b[38;5;124;03m\"\"\"\u001b[39;00m\n\u001b[0;32m   2346\u001b[0m \u001b[38;5;124;03m    Return unique values of Series object.\u001b[39;00m\n\u001b[0;32m   2347\u001b[0m \n\u001b[1;32m   (...)\u001b[0m\n\u001b[0;32m   2405\u001b[0m \u001b[38;5;124;03m    Categories (3, object): ['a' < 'b' < 'c']\u001b[39;00m\n\u001b[0;32m   2406\u001b[0m \u001b[38;5;124;03m    \"\"\"\u001b[39;00m\n\u001b[1;32m-> 2407\u001b[0m     \u001b[38;5;28;01mreturn\u001b[39;00m \u001b[38;5;28msuper\u001b[39m()\u001b[38;5;241m.\u001b[39munique()\n",
      "File \u001b[1;32m~\\AppData\\Local\\anaconda3\\Lib\\site-packages\\pandas\\core\\base.py:1025\u001b[0m, in \u001b[0;36mIndexOpsMixin.unique\u001b[1;34m(self)\u001b[0m\n\u001b[0;32m   1023\u001b[0m     result \u001b[38;5;241m=\u001b[39m values\u001b[38;5;241m.\u001b[39munique()\n\u001b[0;32m   1024\u001b[0m \u001b[38;5;28;01melse\u001b[39;00m:\n\u001b[1;32m-> 1025\u001b[0m     result \u001b[38;5;241m=\u001b[39m algorithms\u001b[38;5;241m.\u001b[39munique1d(values)\n\u001b[0;32m   1026\u001b[0m \u001b[38;5;28;01mreturn\u001b[39;00m result\n",
      "File \u001b[1;32m~\\AppData\\Local\\anaconda3\\Lib\\site-packages\\pandas\\core\\algorithms.py:401\u001b[0m, in \u001b[0;36munique\u001b[1;34m(values)\u001b[0m\n\u001b[0;32m    307\u001b[0m \u001b[38;5;28;01mdef\u001b[39;00m \u001b[38;5;21munique\u001b[39m(values):\n\u001b[0;32m    308\u001b[0m \u001b[38;5;250m    \u001b[39m\u001b[38;5;124;03m\"\"\"\u001b[39;00m\n\u001b[0;32m    309\u001b[0m \u001b[38;5;124;03m    Return unique values based on a hash table.\u001b[39;00m\n\u001b[0;32m    310\u001b[0m \n\u001b[1;32m   (...)\u001b[0m\n\u001b[0;32m    399\u001b[0m \u001b[38;5;124;03m    array([('a', 'b'), ('b', 'a'), ('a', 'c')], dtype=object)\u001b[39;00m\n\u001b[0;32m    400\u001b[0m \u001b[38;5;124;03m    \"\"\"\u001b[39;00m\n\u001b[1;32m--> 401\u001b[0m     \u001b[38;5;28;01mreturn\u001b[39;00m unique_with_mask(values)\n",
      "File \u001b[1;32m~\\AppData\\Local\\anaconda3\\Lib\\site-packages\\pandas\\core\\algorithms.py:440\u001b[0m, in \u001b[0;36munique_with_mask\u001b[1;34m(values, mask)\u001b[0m\n\u001b[0;32m    438\u001b[0m table \u001b[38;5;241m=\u001b[39m hashtable(\u001b[38;5;28mlen\u001b[39m(values))\n\u001b[0;32m    439\u001b[0m \u001b[38;5;28;01mif\u001b[39;00m mask \u001b[38;5;129;01mis\u001b[39;00m \u001b[38;5;28;01mNone\u001b[39;00m:\n\u001b[1;32m--> 440\u001b[0m     uniques \u001b[38;5;241m=\u001b[39m table\u001b[38;5;241m.\u001b[39munique(values)\n\u001b[0;32m    441\u001b[0m     uniques \u001b[38;5;241m=\u001b[39m _reconstruct_data(uniques, original\u001b[38;5;241m.\u001b[39mdtype, original)\n\u001b[0;32m    442\u001b[0m     \u001b[38;5;28;01mreturn\u001b[39;00m uniques\n",
      "File \u001b[1;32mpandas\\\\_libs\\\\hashtable_class_helper.pxi:7248\u001b[0m, in \u001b[0;36mpandas._libs.hashtable.PyObjectHashTable.unique\u001b[1;34m()\u001b[0m\n",
      "File \u001b[1;32mpandas\\\\_libs\\\\hashtable_class_helper.pxi:7195\u001b[0m, in \u001b[0;36mpandas._libs.hashtable.PyObjectHashTable._unique\u001b[1;34m()\u001b[0m\n",
      "\u001b[1;31mTypeError\u001b[0m: unhashable type: 'list'"
     ]
    },
    {
     "data": {
      "image/png": "[encoded data removed]",
      "text/plain": [
       "<Figure size 640x480 with 2 Axes>"
      ]
     },
     "metadata": {},
     "output_type": "display_data"
    }
   ],
   "source": [
    "class Sample:\n",
    "  points = np.array([0])\n",
    "\n",
    "Y=0;nu=0;\n",
    "ylist=[];\n",
    "nulist=[];\n",
    "f,axs=plt.subplots(1,2)\n",
    "eta_iter=[1];#[0,0.05,.1,.15,.2,.25,.3,.35,.4,.45,.49];#[0.0,.05,.1,.15,.2,.25,.3,.35,.4,.45,.5,.55,.6,.65,.7,.75,.8,.85,.9,.95,1.0,1.05,1.1,1.15,1.2,1.25,1.3,1.35,1.4,1.45,1.5]#\n",
    "n_iter=1;\n",
    "Length=1;\n",
    "phi=1;\n",
    "psi=.5;\n",
    "def Rotate(point,orientation):\n",
    "    RotationMat=np.array([[np.cos(orientation), np.sin(orientation)],[-np.sin(orientation),np.cos(orientation)]])\n",
    "    return np.dot(RotationMat,np.array(point))\n",
    "for idx,eta in enumerate(eta_iter):\n",
    "    ylist.append([])\n",
    "    nulist.append([])\n",
    "    for i in range(n_iter):\n",
    "        #newDT=D2C.generate_foam_points((Length,Length),eta)\n",
    "        #newDT=D2C.generate_cryratl_points([3,3],[1,.5],eta)\n",
    "        newDT=Sample()        \n",
    "        newDT.points=np.array([[-4.52191,3.57148],[-4.45331,4.8179],[-4.95318,2.21981],[-4.84945,2.94157],[-3.86332,3.93465],[-3.28156,3.89151],[-3.33449,4.83808],[-4.68708,0.377067],[-4.14432,1.20306],[-3.5365,1.57308],[-3.36969,3.07043],[-3.48253,3.54932],[-2.76943,4.7394],[-4.10549,-1.15665],[-4.16845,0.460136],[-3.81498,1.24137],[-3.43636,1.50913],[-2.1291,2.91828],[-2.45922,3.29316],[-1.07362,4.08867],[-4.95394,-2.78257],[-3.51775,-1.64523],[-3.98476,-0.794587],[-3.25773,-0.416744],[-2.82953,1.22867],[-1.85664,2.20061],[-1.72277,2.16165],[-1.08063,2.98078],[-0.721625,4.76714],[-4.98998,-4.334],[-4.35075,-3.12194],[-3.57622,-2.11404],[-3.43255,-1.50182],[-2.01335,-0.808824],[-2.00058,-0.49],[-1.80094,1.25272],[-0.571393,1.96953],[-0.417453,3.08107],[0.412547,3.7285],[0.951056,4.52156],[-3.0113,-4.29451],[-2.99888,-3.9541],[-2.989,-2.62935],[-2.33108,-2.09328],[-1.9841,-0.941838],[-1.16261,-0.46223],[-0.0153834,0.793591],[0.11207,2.20906],[0.679254,2.14204],[0.546296,3.27903],[1.18991,4.70953],[-2.47662,-4.81957],[-2.46763,-3.31773],[-1.4407,-3.08447],[-0.894789,-1.25348],[-0.199067,-0.479322],[0.234063,0.430482],[0.988251,0.907386],[1.22668,2.16646],[1.97401,2.72222],[1.8854,3.94051],[2.83904,4.6839],[-1.09034,-4.59897],[-0.777733,-3.02741],[-0.0352788,-2.44272],[-0.133256,-1.26052],[0.502754,-1.35602],[1.20809,-0.443622],[1.66532,1.32729],[2.2944,2.12375],[2.79868,2.98653],[3.36886,3.14154],[3.89714,4.61715],[-0.0784917,-4.57999],[-0.442414,-3.25346],[0.967667,-2.74432],[0.804582,-2.1814],[1.18198,-1.23881],[1.88013,0.475113],[2.09475,0.59058],[2.59938,1.44992],[3.52372,2.10865],[3.54776,3.65273],[4.01525,4.40166],[0.0540216,-4.53311],[1.39731,-3.75089],[1.703,-3.04405],[2.40139,-1.45101],[2.26125,-0.438125],[3.4615,0.164663],[3.07794,1.11495],[3.51628,1.81027],[4.25781,2.17211],[4.903,3.9444],[1.02591,-4.20626],[2.29119,-3.07001],[2.04716,-2.41091],[2.85587,-2.20037],[3.60719,-1.34416],[4.46972,0.13951],[4.71076,0.423669],[2.45751,-4.81828],[3.18344,-3.91847],[3.13958,-2.93003],[4.00899,-2.22197],[4.81921,-0.494264],[3.84175,-3.97898],[3.68514,-3.08865],[4.64311,-2.12944],[4.55334,-1.53056],[4.02541,-4.70681],[4.52344,-3.57806]])#[[0,0],[0.5,np.sqrt(3)/2],[1,0],[np.sqrt(3/2),2],[0,-.1]]\n",
    "        newDT.simplices=np.array([[56,57,46],[58,57,68],[57,56,67],[46,57,48],[46,48,47],[68,57,78],[59,49,58],[48,57,58],[78,57,67],[67,56,55],[56,46,55],[46,47,36],[35,46,36],[80,68,79],[68,78,79],[78,67,88],[55,46,45],[69,68,80],[58,68,69],[89,79,88],[79,78,88],[66,55,65],[66,67,55],[55,45,54],[88,67,77],[77,67,66],[45,46,35],[49,48,58],[58,69,59],[27,36,37],[36,47,37],[47,48,49],[37,47,49],[65,55,54],[45,35,34],[64,65,54],[35,36,26],[91,80,90],[80,79,90],[91,81,80],[26,36,27],[37,49,38],[35,26,25],[26,27,17],[33,45,34],[16,25,17],[19,37,38],[49,59,60],[44,45,33],[88,77,87],[77,66,76],[98,88,87],[90,79,89],[54,45,44],[96,77,76],[66,65,64],[54,44,43],[60,59,70],[59,69,70],[100,89,99],[81,69,80],[70,69,81],[25,26,17],[27,37,19],[24,35,25],[24,34,35],[23,33,34],[23,34,24],[76,66,64],[38,49,60],[17,27,19],[38,60,39],[87,77,96],[76,64,75],[97,87,96],[96,76,75],[82,70,71],[70,81,71],[28,38,39],[60,70,82],[17,19,18],[10,17,18],[99,89,98],[89,88,98],[89,100,90],[98,87,97],[96,75,86],[39,60,50],[32,44,23],[44,33,23],[24,25,16],[15,24,16],[71,81,92],[81,91,92],[100,91,90],[19,38,28],[15,16,9],[16,17,10],[63,64,54],[53,54,43],[74,64,63],[95,96,86],[75,64,74],[71,92,82],[61,60,82],[94,75,74],[63,54,53],[92,91,100],[99,98,105],[14,24,15],[9,16,10],[97,96,95],[86,75,85],[103,97,95],[74,63,53],[2,9,10],[18,19,12],[104,97,103],[21,43,32],[43,44,32],[14,15,8],[104,98,97],[104,109,98],[14,23,24],[15,9,8],[22,23,14],[109,105,98],[101,95,85],[95,86,85],[62,53,52],[31,43,21],[32,23,22],[13,32,22],[4,0,11],[10,18,11],[11,18,5],[52,43,42],[21,32,13],[82,92,93],[72,82,83],[31,21,13],[22,14,7],[42,43,31],[61,82,72],[5,18,12],[104,103,107],[103,95,102],[111,104,107],[101,85,94],[85,75,94],[53,43,52],[62,74,53],[42,31,30],[109,104,108],[13,22,7],[14,8,7],[0,10,11],[11,5,4],[2,8,9],[72,83,93],[83,82,93],[94,74,84],[84,74,73],[107,103,102],[106,107,102],[4,5,6],[3,10,0],[73,74,62],[2,10,3],[111,107,106],[102,95,101],[40,51,41],[52,42,41],[31,13,20],[108,104,111],[110,106,102],[51,52,41],[41,42,30],[29,41,30],[0,4,1],[62,52,51],[29,40,41],[30,31,20]])#[[0,1,2],[1,2,3],[0,4,2]])\n",
    "        D2C.analyze_elastic_struct(newDT)\n",
    "        #Y=(i*Y + newDT.YoungsModulus)/(i+1)\n",
    "        #nu=(i*nu + newDT.PoissonsRatio)/(i+1)\n",
    "        ylist[idx].append(newDT.YoungsModulus)# Y)\n",
    "        nulist[idx].append(newDT.PoissonsRatio)# nu )\n",
    "        print(\"Iteration \" + str(i+1) + \", eta = \" + str(eta) + \":\")\n",
    "        print(\"\\t Y_i = \" + str(newDT.YoungsModulus))\n",
    "        print(\"\\t nu_i = \" + str(newDT.PoissonsRatio))\n",
    "        print(\"\\t nu2 = \" + str(newDT.totalElasticTensor[2]/newDT.totalElasticTensor[5]))\n",
    "        #print(\"\\t <Y> = \" + str(Y))\n",
    "        #print(\"\\t <nu> = \" + str(nu))\n",
    "sb.scatterplot(x=range(1,n_iter+1),y=ylist,ax=axs[0])\n",
    "sb.scatterplot(x=range(1,n_iter+1),y=nulist,ax=axs[1])\n",
    "    "
   ]
  },
  {
   "cell_type": "code",
   "execution_count": 52,
   "id": "d230c9c3-ff36-4b25-a352-704b2bb5cd2c",
   "metadata": {},
   "outputs": [
    {
     "data": {
      "text/plain": [
       "array([ 0.15209745, -0.02508366, -0.01021684,  0.05927035, -0.01426703,\n",
       "        0.13236286])"
      ]
     },
     "execution_count": 52,
     "metadata": {},
     "output_type": "execute_result"
    }
   ],
   "source": [
    "newDT.totalElasticTensor*16\n"
   ]
  },
  {
   "cell_type": "code",
   "execution_count": 53,
   "id": "662a139d-6554-4aa1-8dd3-24881f4b7f11",
   "metadata": {},
   "outputs": [
    {
     "data": {
      "text/plain": [
       "'-0.06717300336216363'"
      ]
     },
     "execution_count": 53,
     "metadata": {},
     "output_type": "execute_result"
    }
   ],
   "source": [
    "str(newDT.totalElasticTensor[2]/newDT.totalElasticTensor[0])"
   ]
  },
  {
   "cell_type": "code",
   "execution_count": 38,
   "id": "cc13785f-f4ea-462d-ae03-785b514ed1fd",
   "metadata": {},
   "outputs": [
    {
     "data": {
      "text/plain": [
       "(-0.5, 0.5)"
      ]
     },
     "execution_count": 38,
     "metadata": {},
     "output_type": "execute_result"
    },
    {
     "data": {
      "image/png": "[encoded data removed]",
      "text/plain": [
       "<Figure size 640x480 with 1 Axes>"
      ]
     },
     "metadata": {},
     "output_type": "display_data"
    }
   ],
   "source": [
    "\n",
    "for i in range(10):\n",
    "    plt=sb.scatterplot(x=eta_iter,y= np.array(nulist)[:,i])\n",
    "    \n",
    "  \n",
    "plt.set_ylim(-.5,.5)"
   ]
  },
  {
   "cell_type": "code",
   "execution_count": null,
   "id": "12e668c2-cc5b-488e-8bf8-702fc6fd22c5",
   "metadata": {},
   "outputs": [],
   "source": [
    "newDT.delta_tensor"
   ]
  },
  {
   "cell_type": "code",
   "execution_count": null,
   "id": "304a28f0-59b3-4f9f-a920-cd76d21c6462",
   "metadata": {},
   "outputs": [],
   "source": [
    "newDT.Ws"
   ]
  },
  {
   "cell_type": "code",
   "execution_count": null,
   "id": "b490cc6e-8133-42b0-bdcf-cc06a45c5945",
   "metadata": {},
   "outputs": [],
   "source": [
    "np.mean(newDT.BareElasticTensor,0)"
   ]
  },
  {
   "cell_type": "code",
   "execution_count": null,
   "id": "6197a5fb-12bb-45c4-a0d0-709780db7bba",
   "metadata": {},
   "outputs": [],
   "source": [
    "print(newDT.PoissonsRatio)\n",
    "print(newDT.YoungsModulus)"
   ]
  },
  {
   "cell_type": "code",
   "execution_count": null,
   "id": "ef74e590-8d4a-433d-b5d1-e40e4c9cddcb",
   "metadata": {},
   "outputs": [],
   "source": [
    "def Amat(Avec):\n",
    "    return np.array([[ Avec[0], Avec[1], Avec[1], Avec[2]],\n",
    "                      [Avec[1], Avec[2], Avec[2], Avec[3]],\n",
    "                      [Avec[1], Avec[2], Avec[2], Avec[3]],\n",
    "                      [Avec[2], Avec[3], Avec[3], Avec[4]]])\n",
    "def Wmat(Avec):\n",
    "    return np.array([[ Avec[0], Avec[1], Avec[3], Avec[4]],\n",
    "                      [Avec[1], Avec[2], Avec[4], Avec[5]],\n",
    "                      [Avec[3], Avec[4], Avec[6], Avec[7]],\n",
    "                      [Avec[4], Avec[5], Avec[7], Avec[8]]])\n",
    "def mat4ind(A,m,n,a,b):\n",
    "    return A[(m-1)*2+(a-1),(n-1)*2+(b-1)]\n",
    "\n",
    "def actualelastic4ind(A,W,m,n,a,b):\n",
    "    S1=mat4ind(A,m,n,a,b)\n",
    "    S2=0\n",
    "    S3=0;\n",
    "    S4=0;\n",
    "    for i in range(1,3):\n",
    "        for j in range(1,3):\n",
    "            S2+= mat4ind(A,m,n,i,j)*mat4ind(W,i,j,a,b)\n",
    "            S3+= mat4ind(A,a,b,i,j)*mat4ind(W,i,j,m,n)\n",
    "    for i in range(1,3):\n",
    "        for j in range(1,3):\n",
    "            for k in range(1,3):\n",
    "                for l in range(1,3):\n",
    "                    S4+=mat4ind(A,k,l,i,j)*mat4ind(W,i,j,a,b)*mat4ind(W,k,l,m,n)\n",
    "    return S1+S2+S3+S4\n",
    "\n",
    "def actualmat(A,W):\n",
    "    return np.array(([[actualelastic4ind(A,W,1,1,1,1), actualelastic4ind(A,W,1,1,1,2), actualelastic4ind(A,W,1,2,1,1), actualelastic4ind(A,W,1,2,1,2)],\n",
    "                      [actualelastic4ind(A,W,1,1,2,1), actualelastic4ind(A,W,1,1,2,2), actualelastic4ind(A,W,1,2,2,1), actualelastic4ind(A,W,1,2,2,2)],\n",
    "                      [actualelastic4ind(A,W,2,1,1,1), actualelastic4ind(A,W,2,1,1,2), actualelastic4ind(A,W,2,2,1,1), actualelastic4ind(A,W,2,2,1,2)],\n",
    "                      [actualelastic4ind(A,W,2,1,2,1), actualelastic4ind(A,W,2,1,2,2), actualelastic4ind(A,W,2,2,2,1), actualelastic4ind(A,W,2,2,2,2)]]))        \n",
    "def add_actual_matrix(triangulation):\n",
    "    triangulation.Amatrix=np.array([Amat(avec) for avec in triangulation.BareElasticTensor])\n",
    "    triangulation.Wmatrix=np.array([Wmat(wvec) for wvec in triangulation.Ws])\n",
    "    triangulation.actual_matrix=np.array([actualmat(triangulation.Amatrix[idx],triangulation.Wmatrix[idx]) for idx,tri in enumerate(triangulation.simplices)])\n",
    "    return 0\n",
    "        \n",
    "    "
   ]
  },
  {
   "cell_type": "code",
   "execution_count": null,
   "id": "6c40a7da-294f-4666-a919-77baf5a76a71",
   "metadata": {},
   "outputs": [],
   "source": [
    "add_actual_matrix(newDT)"
   ]
  },
  {
   "cell_type": "code",
   "execution_count": null,
   "id": "4b3e8ed8-da47-426d-92f7-e54c914a48a8",
   "metadata": {},
   "outputs": [],
   "source": [
    "#actualelastic4ind(newDT.Amatrix[0],newDT.Wmatrix[0],1,1,1,1)\n",
    "mat4ind(newDT.Amatrix[0],1,1,1,1)"
   ]
  },
  {
   "cell_type": "code",
   "execution_count": null,
   "id": "9c20b8a2-06fa-4c3e-8aa8-184004f6ce90",
   "metadata": {},
   "outputs": [],
   "source": [
    "#print(newDT.Amatrix[2])\n",
    "#print(newDT.Wmatrix[2])\n",
    "print(np.mean(newDT.actual_matrix,0))"
   ]
  },
  {
   "cell_type": "code",
   "execution_count": null,
   "id": "ac5c1518-2d6d-4b91-8218-d2b4b18ac597",
   "metadata": {},
   "outputs": [],
   "source": [
    "tri=0;\n",
    "newDT.ActualElasticTensor[tri]-0*np.array([newDT.BareElasticTensor[tri,0],newDT.BareElasticTensor[tri,1],newDT.BareElasticTensor[tri,2],newDT.BareElasticTensor[tri,2],newDT.BareElasticTensor[tri,3],newDT.BareElasticTensor[tri,4]])"
   ]
  },
  {
   "cell_type": "code",
   "execution_count": 19,
   "id": "ccce8cba-4867-4f5a-a777-7aa4b1def865",
   "metadata": {},
   "outputs": [
    {
     "data": {
      "text/plain": [
       "array([[56, 57],\n",
       "       [56, 46],\n",
       "       [57, 46]])"
      ]
     },
     "execution_count": 19,
     "metadata": {},
     "output_type": "execute_result"
    }
   ],
   "source": [
    "newDT.edges[0]"
   ]
  },
  {
   "cell_type": "code",
   "execution_count": null,
   "id": "b5007887-8917-4b94-9abf-06a47df828d9",
   "metadata": {},
   "outputs": [],
   "source": [
    "s1.average=121\n",
    "s1.newm='qweqw'\n",
    "s1.average\n",
    "s1.newm"
   ]
  },
  {
   "cell_type": "code",
   "execution_count": null,
   "id": "7f43303d-0860-4825-95f2-0f3f2a63fc70",
   "metadata": {},
   "outputs": [],
   "source": [
    "Y=0;nu=0;\n",
    "ylist=[];\n",
    "nulist=[];\n",
    "f,axs=plt.subplots(1,2)\n",
    "eta_iter=[0.2]#[0,0.05,.1,.15,.2,.25,.3,.35,.4,.45,.49];\n",
    "n_iter=1;\n",
    "Length=4\n",
    "for idx,eta in enumerate(eta_iter):\n",
    "    ylist.append([])\n",
    "    nulist.append([])\n",
    "    for i in range(n_iter):\n",
    "        newDT=D2C.generate_foam_points((Length,Length),eta)\n",
    "        #newDT=D2C.generate_cryratl_points((10,10),(1,1),0)\n",
    "        D2C.analyze_elastic_struct(newDT)\n",
    "        #Y=(i*Y + newDT.YoungsModulus)/(i+1)\n",
    "        #nu=(i*nu + newDT.PoissonsRatio)/(i+1)\n",
    "        ylist[idx].append(newDT.YoungsModulus)# Y)\n",
    "        nulist[idx].append(newDT.PoissonsRatio)# nu )\n",
    "        print(\"Iteration \" + str(i+1) + \", eta = \" + str(eta) + \":\")\n",
    "        print(\"\\t Y_i = \" + str(newDT.YoungsModulus))\n",
    "        print(\"\\t nu_i = \" + str(newDT.PoissonsRatio))\n",
    "        #print(\"\\t <Y> = \" + str(Y))\n",
    "        #print(\"\\t <nu> = \" + str(nu))\n",
    "sb.scatterplot(x=range(1,n_iter+1),y=ylist,ax=axs[0])\n",
    "sb.scatterplot(x=range(1,n_iter+1),y=nulist,ax=axs[1])\n",
    "    "
   ]
  },
  {
   "cell_type": "code",
   "execution_count": null,
   "id": "dcf85a1f-c5fa-4ecc-9059-69e797cc7a7c",
   "metadata": {},
   "outputs": [],
   "source": [
    "np.mean(newDT.BareElasticTensor,0)"
   ]
  },
  {
   "cell_type": "code",
   "execution_count": null,
   "id": "d69c1a59-6d9b-4ba0-83ca-58828bc593e2",
   "metadata": {},
   "outputs": [],
   "source": [
    "newDT.Ws"
   ]
  },
  {
   "cell_type": "code",
   "execution_count": null,
   "id": "f4877109-d4cf-4c15-a962-c52aa4787b16",
   "metadata": {},
   "outputs": [],
   "source": [
    "g=sb.scatterplot(x=ylist,y=nulist)\n",
    "g.set(xlim=(0,400))\n",
    "ylist"
   ]
  },
  {
   "cell_type": "code",
   "execution_count": null,
   "id": "6ac9a55b-24d5-46f1-8838-2e8b25435262",
   "metadata": {},
   "outputs": [],
   "source": [
    "sb.scatterplot(x=newDT.points[:,0],y=newDT.points[:,1])\n",
    "sb.scatterplot(x=newDT.points[newDT.simplices.flatten(),0],y=newDT.points[newDT.simplices.flatten(),1])"
   ]
  },
  {
   "cell_type": "code",
   "execution_count": null,
   "id": "bfe779cf-b753-4cad-86c0-5bf21c657bf3",
   "metadata": {},
   "outputs": [],
   "source": [
    "D2C.add_local_tensors_to_triangulation(newDT)"
   ]
  },
  {
   "cell_type": "code",
   "execution_count": null,
   "id": "8b07442b-e124-4b69-a005-e358a88f8bf8",
   "metadata": {},
   "outputs": [],
   "source": [
    "D2C.add_delta_As(newDT)"
   ]
  },
  {
   "cell_type": "code",
   "execution_count": null,
   "id": "c5205ecd-a556-4706-803a-12813fc8d8f7",
   "metadata": {},
   "outputs": [],
   "source": [
    "D2C.add_delta_As(newDT)"
   ]
  },
  {
   "cell_type": "code",
   "execution_count": null,
   "id": "163e2e24-aa53-49f2-84b4-9adcef9cbce2",
   "metadata": {},
   "outputs": [],
   "source": [
    "D2C.analyze_elastic_struct(newDT)"
   ]
  },
  {
   "cell_type": "code",
   "execution_count": null,
   "id": "5a4f84e0-ed62-4921-87d5-062715c2c084",
   "metadata": {},
   "outputs": [],
   "source": [
    "print(newDT.YoungsModulus)\n",
    "print(newDT.PoissonsRatio)"
   ]
  },
  {
   "cell_type": "code",
   "execution_count": null,
   "id": "34ecef9f-6da9-4a63-8e64-21160a5276ac",
   "metadata": {},
   "outputs": [],
   "source": [
    "print(newDT.BareElasticTensor[3])\n",
    "print(np.mean(newDT.BareElasticTensor,0))"
   ]
  },
  {
   "cell_type": "code",
   "execution_count": null,
   "id": "5c90f715-bafe-471f-b4de-85c176a9fcb2",
   "metadata": {},
   "outputs": [],
   "source": [
    "A0=np.mean(newDT.BareElasticTensor,0)\n",
    "Af=newDT.totalElasticTensor\n",
    "print(newDT.delta_tensor[0])\n",
    "print(newDT.BareElasticTensor[1])\n",
    "print(newDT.totalElasticTensor)\n"
   ]
  },
  {
   "cell_type": "markdown",
   "id": "42299f37-5ed3-4051-9005-4bc3edf58bb4",
   "metadata": {},
   "source": [
    "# np.mean(newDT.delta_tensor,0)"
   ]
  },
  {
   "cell_type": "code",
   "execution_count": null,
   "id": "6ad1f0c9-433b-4251-847e-e9d5a2cbb72d",
   "metadata": {},
   "outputs": [],
   "source": [
    "A = np.array([[1,2],[3,4]])\n",
    "B = np.array([[1,0],[0,1]])\n",
    "C = np.array([[A,B],[B,A]])\n",
    "E = np.block([[A,B],[B,A]])\n",
    "np.spar"
   ]
  },
  {
   "cell_type": "code",
   "execution_count": null,
   "id": "b1de9ba1-5111-4ce7-8dc7-1daa847eb11c",
   "metadata": {},
   "outputs": [],
   "source": [
    "a1=np.array([[1,0,0],[0,2,0],[0,0,3]])\n",
    "a2=np.array([[0,0,1],[0,2,0],[3,0,0]])\n",
    "a=np.block([a1,a2])\n",
    "b=np.array([1,1])\n",
    "b=b[...,None]\n",
    "a"
   ]
  },
  {
   "cell_type": "code",
   "execution_count": null,
   "id": "778f2308-b45a-4d74-9e48-46a0015bc478",
   "metadata": {},
   "outputs": [],
   "source": [
    "sp.sparse.block_diag([np.array([[1,9],[9,1]]),2,3]).toarray()"
   ]
  },
  {
   "cell_type": "code",
   "execution_count": null,
   "id": "1f293ea2-4454-48c8-8303-aa856ebfeae3",
   "metadata": {},
   "outputs": [],
   "source": [
    "np.ones(10)"
   ]
  },
  {
   "cell_type": "code",
   "execution_count": null,
   "id": "b79c293b-536c-43c2-823f-e4514407a58b",
   "metadata": {},
   "outputs": [],
   "source": [
    "len(newDT.delta_tensor)"
   ]
  },
  {
   "cell_type": "code",
   "execution_count": null,
   "id": "32340322-3e4e-49a8-9ed8-2f1061404815",
   "metadata": {},
   "outputs": [],
   "source": [
    "n=10\n",
    "\n",
    "no_dups=flatten_edges_remove_duplicates(all_edges[:n])\n",
    "\n",
    "print(\"/n/n all_edges:\")\n",
    "print(all_edges[:n])\n",
    "\n",
    "print(\"/n/n no_dups:\")\n",
    "print(no_dups)"
   ]
  },
  {
   "cell_type": "code",
   "execution_count": null,
   "id": "de0c1317-3c75-4156-b561-19301e5b3171",
   "metadata": {},
   "outputs": [],
   "source": [
    "n=10\n",
    "\n",
    "no_dups2=flatten_edges_remove_duplicates(newDT.edges[:n])\n",
    "\n",
    "print(\"edges raw:\")\n",
    "print(newDT.edges[:n])\n",
    "\n",
    "print(\"no_dups2:\")\n",
    "print(no_dups2)"
   ]
  },
  {
   "cell_type": "code",
   "execution_count": null,
   "id": "5d5e46fc-ee28-4f99-87f9-35a8edc7807f",
   "metadata": {},
   "outputs": [],
   "source": [
    "qqq=np.array([True,True,False,True])\n",
    "ids=np.where(qqq==True)\n",
    "qqq[ids]"
   ]
  },
  {
   "cell_type": "code",
   "execution_count": null,
   "id": "a9343266-e21a-4082-b121-01b1b51fd66d",
   "metadata": {},
   "outputs": [],
   "source": []
  },
  {
   "cell_type": "code",
   "execution_count": null,
   "id": "a0b58fef-b1d2-4acb-bb89-8aa787eea9db",
   "metadata": {},
   "outputs": [],
   "source": [
    "np.array([1,0])==np.array([])"
   ]
  },
  {
   "cell_type": "code",
   "execution_count": null,
   "id": "9a494b1c-f0f6-4920-9a53-332de5d1dddc",
   "metadata": {},
   "outputs": [],
   "source": [
    "a1=sb.\n",
    "a1=sb.scatterplot(x=[1,2],y=[2,2])\n",
    "a2=sb.scatterplot(x=[1,2],y=[3,4])"
   ]
  },
  {
   "cell_type": "code",
   "execution_count": null,
   "id": "b3b4f560-7730-4212-aa05-509c946b7fd6",
   "metadata": {},
   "outputs": [],
   "source": [
    "a=np.array(range(0,27))\n",
    "a"
   ]
  },
  {
   "cell_type": "code",
   "execution_count": null,
   "id": "629f966c-b0eb-44df-b09a-cccd88593c9a",
   "metadata": {},
   "outputs": [],
   "source": [
    "a.reshape(-1,9)"
   ]
  },
  {
   "cell_type": "code",
   "execution_count": null,
   "id": "3dae13a0-90f8-419d-a723-f913b86cb419",
   "metadata": {},
   "outputs": [],
   "source": [
    "np.max(newDT.Ws)"
   ]
  },
  {
   "cell_type": "code",
   "execution_count": null,
   "id": "5dc05aec-179f-42c3-9bfe-b0bc2c5a8cc1",
   "metadata": {},
   "outputs": [],
   "source": [
    "qqq=np.linalg.inv(newDT.A_matrix_all.todense()-newDT.B_matrix_all.todense())@newDT.dA_vec_all"
   ]
  },
  {
   "cell_type": "code",
   "execution_count": null,
   "id": "833649d1-6184-4225-8d68-29b495df9175",
   "metadata": {},
   "outputs": [],
   "source": [
    "np.max(qqq)"
   ]
  },
  {
   "cell_type": "code",
   "execution_count": null,
   "id": "5feaaf33-5fcc-413e-9a1d-dcaf09b42bed",
   "metadata": {},
   "outputs": [],
   "source": [
    "newDT.dA_vec_all.shape[1]"
   ]
  },
  {
   "cell_type": "code",
   "execution_count": null,
   "id": "48d2fc03-7d00-47c8-85f2-348a497c89fb",
   "metadata": {},
   "outputs": [],
   "source": [
    "print(newDT.BareElasticTensor[0])\n",
    "print(newDT.A_matrix[0].todense())"
   ]
  },
  {
   "cell_type": "code",
   "execution_count": null,
   "id": "67058457-5f0c-4049-b636-09694b90c4af",
   "metadata": {},
   "outputs": [],
   "source": [
    "import sys\n",
    "np.set_printoptions(threshold=sys.maxsize)\n",
    "np.set_printoptions(precision=10)\n",
    "np.set_printoptions(suppress=True)\n",
    "print(newDT.points[newDT.simplices])"
   ]
  },
  {
   "cell_type": "code",
   "execution_count": null,
   "id": "6326a3ef-c16a-46f1-a538-611e530b0f7e",
   "metadata": {},
   "outputs": [],
   "source": [
    "np.flat"
   ]
  }
 ],
 "metadata": {
  "kernelspec": {
   "display_name": "Python 3 (ipykernel)",
   "language": "python",
   "name": "python3"
  },
  "language_info": {
   "codemirror_mode": {
    "name": "ipython",
    "version": 3
   },
   "file_extension": ".py",
   "mimetype": "text/x-python",
   "name": "python",
   "nbconvert_exporter": "python",
   "pygments_lexer": "ipython3",
   "version": "3.12.8"
  }
 },
 "nbformat": 4,
 "nbformat_minor": 5
}
