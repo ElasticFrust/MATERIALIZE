{
 "cells": [
  {
   "cell_type": "code",
   "execution_count": 1,
   "id": "463189ad-d934-4b85-b140-866fc7dd3128",
   "metadata": {},
   "outputs": [],
   "source": [
    "import numpy as np\n",
    "import scipy as sp\n",
    "import seaborn as sb\n",
    "import matplotlib.pyplot as plt\n",
    "import Disc_2_Cont as D2C\n",
    "import copy"
   ]
  },
  {
   "cell_type": "code",
   "execution_count": null,
   "id": "eaaee3a3-e644-468c-bc92-82bf98fa41d8",
   "metadata": {},
   "outputs": [
    {
     "name": "stderr",
     "output_type": "stream",
     "text": [
      "C:\\Users\\dgrossma\\AppData\\Local\\anaconda3\\Lib\\site-packages\\scipy\\sparse\\linalg\\_dsolve\\linsolve.py:603: SparseEfficiencyWarning: splu converted its input to CSC format\n",
      "  return splu(A).solve\n",
      "C:\\Users\\dgrossma\\AppData\\Local\\anaconda3\\Lib\\site-packages\\scipy\\sparse\\linalg\\_matfuncs.py:76: SparseEfficiencyWarning: spsolve is more efficient when sparse b is in the CSC matrix format\n",
      "  Ainv = spsolve(A, I)\n"
     ]
    }
   ],
   "source": [
    "class Sample:\n",
    "  points = np.array([0])\n",
    "\n",
    "Y=0;nu=0;\n",
    "ylist=[];\n",
    "nulist=[];\n",
    "f,axs=plt.subplots(1,2)\n",
    "eta_iter=[0.0,.05,.1,.15,.2,.25,.3,.35,.4,.45,.5,.55,.6,.65,.7,.75,.8,.85,.9,.95,1.0,1.05,1.1,1.15,1.2,1.25,1.3,1.35,1.4,1.45,1.5]#[0,0.05,.1,.15,.2,.25,.3,.35,.4,.45,.49];\n",
    "n_iter=1;\n",
    "Length=10;\n",
    "phi=2;\n",
    "psi=2;\n",
    "def Rotate(point,orientation):\n",
    "    RotationMat=np.array([[np.cos(orientation), np.sin(orientation)],[-np.sin(orientation),np.cos(orientation)]])\n",
    "    return np.dot(RotationMat,np.array(point))\n",
    "for idx,eta in enumerate(eta_iter):\n",
    "    ylist.append([])\n",
    "    nulist.append([])\n",
    "    for i in range(n_iter):\n",
    "        #newDT=D2C.generate_foam_points((Length,Length),eta)\n",
    "        #newDT=D2C.generate_cryratl_points([3,3],[1,.5],eta)\n",
    "        newDT=Sample()        \n",
    "        newDT.points=np.array([Rotate([0,0],eta),Rotate([1,0],eta),Rotate([.5*phi,np.sqrt(3)/2*psi],eta),Rotate([.5*phi,-np.sqrt(3)/2*psi],eta)])#[[0,0],[0.5,np.sqrt(3)/2],[1,0],[np.sqrt(3/2),2],[0,-.1]]\n",
    "        newDT.simplices=np.array([[0,2,1]])#[[0,1,2],[1,2,3],[0,4,2]])\n",
    "        D2C.analyze_elastic_struct(newDT)\n",
    "        #Y=(i*Y + newDT.YoungsModulus)/(i+1)\n",
    "        #nu=(i*nu + newDT.PoissonsRatio)/(i+1)\n",
    "        ylist[idx].append(newDT.YoungsModulus)# Y)\n",
    "        nulist[idx].append(newDT.PoissonsRatio)# nu )\n",
    "        print(\"Iteration \" + str(i+1) + \", eta = \" + str(eta) + \":\")\n",
    "        print(\"\\t Y_i = \" + str(newDT.YoungsModulus))\n",
    "        print(\"\\t nu_i = \" + str(newDT.PoissonsRatio))\n",
    "        print(\"\\t nu2 = \" + str(newDT.totalElasticTensor[2]/newDT.totalElasticTensor[5]))\n",
    "        #print(\"\\t <Y> = \" + str(Y))\n",
    "        #print(\"\\t <nu> = \" + str(nu))\n",
    "sb.scatterplot(x=range(1,n_iter+1),y=ylist,ax=axs[0])\n",
    "sb.scatterplot(x=range(1,n_iter+1),y=nulist,ax=axs[1])\n",
    "    "
   ]
  },
  {
   "cell_type": "code",
   "execution_count": null,
   "id": "12e668c2-cc5b-488e-8bf8-702fc6fd22c5",
   "metadata": {},
   "outputs": [],
   "source": [
    "newDT.delta_tensor"
   ]
  },
  {
   "cell_type": "code",
   "execution_count": null,
   "id": "304a28f0-59b3-4f9f-a920-cd76d21c6462",
   "metadata": {},
   "outputs": [],
   "source": [
    "newDT.Ws"
   ]
  },
  {
   "cell_type": "code",
   "execution_count": null,
   "id": "b490cc6e-8133-42b0-bdcf-cc06a45c5945",
   "metadata": {},
   "outputs": [],
   "source": [
    "np.mean(newDT.BareElasticTensor,0)"
   ]
  },
  {
   "cell_type": "code",
   "execution_count": null,
   "id": "6197a5fb-12bb-45c4-a0d0-709780db7bba",
   "metadata": {},
   "outputs": [],
   "source": [
    "print(newDT.PoissonsRatio)\n",
    "print(newDT.YoungsModulus)"
   ]
  },
  {
   "cell_type": "code",
   "execution_count": null,
   "id": "ef74e590-8d4a-433d-b5d1-e40e4c9cddcb",
   "metadata": {},
   "outputs": [],
   "source": [
    "def Amat(Avec):\n",
    "    return np.array([[ Avec[0], Avec[1], Avec[1], Avec[2]],\n",
    "                      [Avec[1], Avec[2], Avec[2], Avec[3]],\n",
    "                      [Avec[1], Avec[2], Avec[2], Avec[3]],\n",
    "                      [Avec[2], Avec[3], Avec[3], Avec[4]]])\n",
    "def Wmat(Avec):\n",
    "    return np.array([[ Avec[0], Avec[1], Avec[3], Avec[4]],\n",
    "                      [Avec[1], Avec[2], Avec[4], Avec[5]],\n",
    "                      [Avec[3], Avec[4], Avec[6], Avec[7]],\n",
    "                      [Avec[4], Avec[5], Avec[7], Avec[8]]])\n",
    "def mat4ind(A,m,n,a,b):\n",
    "    return A[(m-1)*2+(a-1),(n-1)*2+(b-1)]\n",
    "\n",
    "def actualelastic4ind(A,W,m,n,a,b):\n",
    "    S1=mat4ind(A,m,n,a,b)\n",
    "    S2=0\n",
    "    S3=0;\n",
    "    S4=0;\n",
    "    for i in range(1,3):\n",
    "        for j in range(1,3):\n",
    "            S2+= mat4ind(A,m,n,i,j)*mat4ind(W,i,j,a,b)\n",
    "            S3+= mat4ind(A,a,b,i,j)*mat4ind(W,i,j,m,n)\n",
    "    for i in range(1,3):\n",
    "        for j in range(1,3):\n",
    "            for k in range(1,3):\n",
    "                for l in range(1,3):\n",
    "                    S4+=mat4ind(A,k,l,i,j)*mat4ind(W,i,j,a,b)*mat4ind(W,k,l,m,n)\n",
    "    return S1+S2+S3+S4\n",
    "\n",
    "def actualmat(A,W):\n",
    "    return np.array(([[actualelastic4ind(A,W,1,1,1,1), actualelastic4ind(A,W,1,1,1,2), actualelastic4ind(A,W,1,2,1,1), actualelastic4ind(A,W,1,2,1,2)],\n",
    "                      [actualelastic4ind(A,W,1,1,2,1), actualelastic4ind(A,W,1,1,2,2), actualelastic4ind(A,W,1,2,2,1), actualelastic4ind(A,W,1,2,2,2)],\n",
    "                      [actualelastic4ind(A,W,2,1,1,1), actualelastic4ind(A,W,2,1,1,2), actualelastic4ind(A,W,2,2,1,1), actualelastic4ind(A,W,2,2,1,2)],\n",
    "                      [actualelastic4ind(A,W,2,1,2,1), actualelastic4ind(A,W,2,1,2,2), actualelastic4ind(A,W,2,2,2,1), actualelastic4ind(A,W,2,2,2,2)]]))        \n",
    "def add_actual_matrix(triangulation):\n",
    "    triangulation.Amatrix=np.array([Amat(avec) for avec in triangulation.BareElasticTensor])\n",
    "    triangulation.Wmatrix=np.array([Wmat(wvec) for wvec in triangulation.Ws])\n",
    "    triangulation.actual_matrix=np.array([actualmat(triangulation.Amatrix[idx],triangulation.Wmatrix[idx]) for idx,tri in enumerate(triangulation.simplices)])\n",
    "    return 0\n",
    "        \n",
    "    "
   ]
  },
  {
   "cell_type": "code",
   "execution_count": null,
   "id": "6c40a7da-294f-4666-a919-77baf5a76a71",
   "metadata": {},
   "outputs": [],
   "source": [
    "add_actual_matrix(newDT)"
   ]
  },
  {
   "cell_type": "code",
   "execution_count": null,
   "id": "4b3e8ed8-da47-426d-92f7-e54c914a48a8",
   "metadata": {},
   "outputs": [],
   "source": [
    "#actualelastic4ind(newDT.Amatrix[0],newDT.Wmatrix[0],1,1,1,1)\n",
    "mat4ind(newDT.Amatrix[0],1,1,1,1)"
   ]
  },
  {
   "cell_type": "code",
   "execution_count": null,
   "id": "9c20b8a2-06fa-4c3e-8aa8-184004f6ce90",
   "metadata": {},
   "outputs": [],
   "source": [
    "#print(newDT.Amatrix[2])\n",
    "#print(newDT.Wmatrix[2])\n",
    "print(np.mean(newDT.actual_matrix,0))"
   ]
  },
  {
   "cell_type": "code",
   "execution_count": null,
   "id": "ac5c1518-2d6d-4b91-8218-d2b4b18ac597",
   "metadata": {},
   "outputs": [],
   "source": [
    "tri=0;\n",
    "newDT.ActualElasticTensor[tri]-0*np.array([newDT.BareElasticTensor[tri,0],newDT.BareElasticTensor[tri,1],newDT.BareElasticTensor[tri,2],newDT.BareElasticTensor[tri,2],newDT.BareElasticTensor[tri,3],newDT.BareElasticTensor[tri,4]])"
   ]
  },
  {
   "cell_type": "code",
   "execution_count": null,
   "id": "ccce8cba-4867-4f5a-a777-7aa4b1def865",
   "metadata": {},
   "outputs": [],
   "source": [
    "newDT.BareElasticTensor"
   ]
  },
  {
   "cell_type": "code",
   "execution_count": null,
   "id": "b5007887-8917-4b94-9abf-06a47df828d9",
   "metadata": {},
   "outputs": [],
   "source": [
    "s1.average=121\n",
    "s1.newm='qweqw'\n",
    "s1.average\n",
    "s1.newm"
   ]
  },
  {
   "cell_type": "code",
   "execution_count": null,
   "id": "7f43303d-0860-4825-95f2-0f3f2a63fc70",
   "metadata": {},
   "outputs": [],
   "source": [
    "Y=0;nu=0;\n",
    "ylist=[];\n",
    "nulist=[];\n",
    "f,axs=plt.subplots(1,2)\n",
    "eta_iter=[0.2]#[0,0.05,.1,.15,.2,.25,.3,.35,.4,.45,.49];\n",
    "n_iter=1;\n",
    "Length=4\n",
    "for idx,eta in enumerate(eta_iter):\n",
    "    ylist.append([])\n",
    "    nulist.append([])\n",
    "    for i in range(n_iter):\n",
    "        newDT=D2C.generate_foam_points((Length,Length),eta)\n",
    "        #newDT=D2C.generate_cryratl_points((10,10),(1,1),0)\n",
    "        D2C.analyze_elastic_struct(newDT)\n",
    "        #Y=(i*Y + newDT.YoungsModulus)/(i+1)\n",
    "        #nu=(i*nu + newDT.PoissonsRatio)/(i+1)\n",
    "        ylist[idx].append(newDT.YoungsModulus)# Y)\n",
    "        nulist[idx].append(newDT.PoissonsRatio)# nu )\n",
    "        print(\"Iteration \" + str(i+1) + \", eta = \" + str(eta) + \":\")\n",
    "        print(\"\\t Y_i = \" + str(newDT.YoungsModulus))\n",
    "        print(\"\\t nu_i = \" + str(newDT.PoissonsRatio))\n",
    "        #print(\"\\t <Y> = \" + str(Y))\n",
    "        #print(\"\\t <nu> = \" + str(nu))\n",
    "sb.scatterplot(x=range(1,n_iter+1),y=ylist,ax=axs[0])\n",
    "sb.scatterplot(x=range(1,n_iter+1),y=nulist,ax=axs[1])\n",
    "    "
   ]
  },
  {
   "cell_type": "code",
   "execution_count": null,
   "id": "dcf85a1f-c5fa-4ecc-9059-69e797cc7a7c",
   "metadata": {},
   "outputs": [],
   "source": [
    "np.mean(newDT.BareElasticTensor,0)"
   ]
  },
  {
   "cell_type": "code",
   "execution_count": null,
   "id": "d69c1a59-6d9b-4ba0-83ca-58828bc593e2",
   "metadata": {},
   "outputs": [],
   "source": [
    "newDT.Ws"
   ]
  },
  {
   "cell_type": "code",
   "execution_count": null,
   "id": "f4877109-d4cf-4c15-a962-c52aa4787b16",
   "metadata": {},
   "outputs": [],
   "source": [
    "g=sb.scatterplot(x=ylist,y=nulist)\n",
    "g.set(xlim=(0,400))\n",
    "ylist"
   ]
  },
  {
   "cell_type": "code",
   "execution_count": null,
   "id": "6ac9a55b-24d5-46f1-8838-2e8b25435262",
   "metadata": {},
   "outputs": [],
   "source": [
    "sb.scatterplot(x=newDT.points[:,0],y=newDT.points[:,1])\n",
    "sb.scatterplot(x=newDT.points[newDT.simplices.flatten(),0],y=newDT.points[newDT.simplices.flatten(),1])"
   ]
  },
  {
   "cell_type": "code",
   "execution_count": null,
   "id": "bfe779cf-b753-4cad-86c0-5bf21c657bf3",
   "metadata": {},
   "outputs": [],
   "source": [
    "D2C.add_local_tensors_to_triangulation(newDT)"
   ]
  },
  {
   "cell_type": "code",
   "execution_count": null,
   "id": "8b07442b-e124-4b69-a005-e358a88f8bf8",
   "metadata": {},
   "outputs": [],
   "source": [
    "D2C.add_delta_As(newDT)"
   ]
  },
  {
   "cell_type": "code",
   "execution_count": null,
   "id": "c5205ecd-a556-4706-803a-12813fc8d8f7",
   "metadata": {},
   "outputs": [],
   "source": [
    "D2C.add_delta_As(newDT)"
   ]
  },
  {
   "cell_type": "code",
   "execution_count": null,
   "id": "163e2e24-aa53-49f2-84b4-9adcef9cbce2",
   "metadata": {},
   "outputs": [],
   "source": [
    "D2C.analyze_elastic_struct(newDT)"
   ]
  },
  {
   "cell_type": "code",
   "execution_count": null,
   "id": "5a4f84e0-ed62-4921-87d5-062715c2c084",
   "metadata": {},
   "outputs": [],
   "source": [
    "print(newDT.YoungsModulus)\n",
    "print(newDT.PoissonsRatio)"
   ]
  },
  {
   "cell_type": "code",
   "execution_count": null,
   "id": "34ecef9f-6da9-4a63-8e64-21160a5276ac",
   "metadata": {},
   "outputs": [],
   "source": [
    "print(newDT.BareElasticTensor[3])\n",
    "print(np.mean(newDT.BareElasticTensor,0))"
   ]
  },
  {
   "cell_type": "code",
   "execution_count": null,
   "id": "5c90f715-bafe-471f-b4de-85c176a9fcb2",
   "metadata": {},
   "outputs": [],
   "source": [
    "A0=np.mean(newDT.BareElasticTensor,0)\n",
    "Af=newDT.totalElasticTensor\n",
    "print(newDT.delta_tensor[0])\n",
    "print(newDT.BareElasticTensor[1])\n",
    "print(newDT.totalElasticTensor)\n"
   ]
  },
  {
   "cell_type": "markdown",
   "id": "42299f37-5ed3-4051-9005-4bc3edf58bb4",
   "metadata": {},
   "source": [
    "# np.mean(newDT.delta_tensor,0)"
   ]
  },
  {
   "cell_type": "code",
   "execution_count": null,
   "id": "6ad1f0c9-433b-4251-847e-e9d5a2cbb72d",
   "metadata": {},
   "outputs": [],
   "source": [
    "A = np.array([[1,2],[3,4]])\n",
    "B = np.array([[1,0],[0,1]])\n",
    "C = np.array([[A,B],[B,A]])\n",
    "E = np.block([[A,B],[B,A]])\n",
    "np.spar"
   ]
  },
  {
   "cell_type": "code",
   "execution_count": null,
   "id": "b1de9ba1-5111-4ce7-8dc7-1daa847eb11c",
   "metadata": {},
   "outputs": [],
   "source": [
    "a1=np.array([[1,0,0],[0,2,0],[0,0,3]])\n",
    "a2=np.array([[0,0,1],[0,2,0],[3,0,0]])\n",
    "a=np.block([a1,a2])\n",
    "b=np.array([1,1])\n",
    "b=b[...,None]\n",
    "a"
   ]
  },
  {
   "cell_type": "code",
   "execution_count": null,
   "id": "778f2308-b45a-4d74-9e48-46a0015bc478",
   "metadata": {},
   "outputs": [],
   "source": [
    "sp.sparse.block_diag([np.array([[1,9],[9,1]]),2,3]).toarray()"
   ]
  },
  {
   "cell_type": "code",
   "execution_count": null,
   "id": "1f293ea2-4454-48c8-8303-aa856ebfeae3",
   "metadata": {},
   "outputs": [],
   "source": [
    "np.ones(10)"
   ]
  },
  {
   "cell_type": "code",
   "execution_count": null,
   "id": "b79c293b-536c-43c2-823f-e4514407a58b",
   "metadata": {},
   "outputs": [],
   "source": [
    "len(newDT.delta_tensor)"
   ]
  },
  {
   "cell_type": "code",
   "execution_count": null,
   "id": "32340322-3e4e-49a8-9ed8-2f1061404815",
   "metadata": {},
   "outputs": [],
   "source": [
    "n=10\n",
    "\n",
    "no_dups=flatten_edges_remove_duplicates(all_edges[:n])\n",
    "\n",
    "print(\"/n/n all_edges:\")\n",
    "print(all_edges[:n])\n",
    "\n",
    "print(\"/n/n no_dups:\")\n",
    "print(no_dups)"
   ]
  },
  {
   "cell_type": "code",
   "execution_count": null,
   "id": "de0c1317-3c75-4156-b561-19301e5b3171",
   "metadata": {},
   "outputs": [],
   "source": [
    "n=10\n",
    "\n",
    "no_dups2=flatten_edges_remove_duplicates(newDT.edges[:n])\n",
    "\n",
    "print(\"edges raw:\")\n",
    "print(newDT.edges[:n])\n",
    "\n",
    "print(\"no_dups2:\")\n",
    "print(no_dups2)"
   ]
  },
  {
   "cell_type": "code",
   "execution_count": null,
   "id": "5d5e46fc-ee28-4f99-87f9-35a8edc7807f",
   "metadata": {},
   "outputs": [],
   "source": [
    "qqq=np.array([True,True,False,True])\n",
    "ids=np.where(qqq==True)\n",
    "qqq[ids]"
   ]
  },
  {
   "cell_type": "code",
   "execution_count": null,
   "id": "a9343266-e21a-4082-b121-01b1b51fd66d",
   "metadata": {},
   "outputs": [],
   "source": []
  },
  {
   "cell_type": "code",
   "execution_count": null,
   "id": "a0b58fef-b1d2-4acb-bb89-8aa787eea9db",
   "metadata": {},
   "outputs": [],
   "source": [
    "np.array([1,0])==np.array([])"
   ]
  },
  {
   "cell_type": "code",
   "execution_count": null,
   "id": "9a494b1c-f0f6-4920-9a53-332de5d1dddc",
   "metadata": {},
   "outputs": [],
   "source": [
    "a1=sb.\n",
    "a1=sb.scatterplot(x=[1,2],y=[2,2])\n",
    "a2=sb.scatterplot(x=[1,2],y=[3,4])"
   ]
  },
  {
   "cell_type": "code",
   "execution_count": null,
   "id": "b3b4f560-7730-4212-aa05-509c946b7fd6",
   "metadata": {},
   "outputs": [],
   "source": [
    "a=np.array(range(0,27))\n",
    "a"
   ]
  },
  {
   "cell_type": "code",
   "execution_count": null,
   "id": "629f966c-b0eb-44df-b09a-cccd88593c9a",
   "metadata": {},
   "outputs": [],
   "source": [
    "a.reshape(-1,9)"
   ]
  },
  {
   "cell_type": "code",
   "execution_count": null,
   "id": "3dae13a0-90f8-419d-a723-f913b86cb419",
   "metadata": {},
   "outputs": [],
   "source": [
    "np.max(newDT.Ws)"
   ]
  },
  {
   "cell_type": "code",
   "execution_count": null,
   "id": "5dc05aec-179f-42c3-9bfe-b0bc2c5a8cc1",
   "metadata": {},
   "outputs": [],
   "source": [
    "qqq=np.linalg.inv(newDT.A_matrix_all.todense()-newDT.B_matrix_all.todense())@newDT.dA_vec_all"
   ]
  },
  {
   "cell_type": "code",
   "execution_count": null,
   "id": "833649d1-6184-4225-8d68-29b495df9175",
   "metadata": {},
   "outputs": [],
   "source": [
    "np.max(qqq)"
   ]
  },
  {
   "cell_type": "code",
   "execution_count": null,
   "id": "5feaaf33-5fcc-413e-9a1d-dcaf09b42bed",
   "metadata": {},
   "outputs": [],
   "source": [
    "newDT.dA_vec_all.shape[1]"
   ]
  },
  {
   "cell_type": "code",
   "execution_count": null,
   "id": "48d2fc03-7d00-47c8-85f2-348a497c89fb",
   "metadata": {},
   "outputs": [],
   "source": [
    "print(newDT.BareElasticTensor[0])\n",
    "print(newDT.A_matrix[0].todense())"
   ]
  },
  {
   "cell_type": "code",
   "execution_count": null,
   "id": "67058457-5f0c-4049-b636-09694b90c4af",
   "metadata": {},
   "outputs": [],
   "source": [
    "import sys\n",
    "np.set_printoptions(threshold=sys.maxsize)\n",
    "np.set_printoptions(precision=10)\n",
    "np.set_printoptions(suppress=True)\n",
    "print(newDT.points[newDT.simplices])"
   ]
  },
  {
   "cell_type": "code",
   "execution_count": null,
   "id": "6326a3ef-c16a-46f1-a538-611e530b0f7e",
   "metadata": {},
   "outputs": [],
   "source": [
    "np.flat"
   ]
  }
 ],
 "metadata": {
  "kernelspec": {
   "display_name": "Python 3 (ipykernel)",
   "language": "python",
   "name": "python3"
  },
  "language_info": {
   "codemirror_mode": {
    "name": "ipython",
    "version": 3
   },
   "file_extension": ".py",
   "mimetype": "text/x-python",
   "name": "python",
   "nbconvert_exporter": "python",
   "pygments_lexer": "ipython3",
   "version": "3.12.8"
  }
 },
 "nbformat": 4,
 "nbformat_minor": 5
}
